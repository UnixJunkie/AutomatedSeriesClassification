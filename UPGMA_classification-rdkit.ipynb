{
 "cells": [
  {
   "cell_type": "code",
   "execution_count": 1,
   "metadata": {},
   "outputs": [
    {
     "name": "stdout",
     "output_type": "stream",
     "text": [
      "RDKit version:  2020.03.3\n",
      "Pandas version: 1.0.5\n",
      "Numpy version: 1.19.1\n",
      "MatplotLib version: 3.3.0\n",
      "Sklearn version: 0.23.2\n",
      "Seaborn version: 0.10.1\n"
     ]
    }
   ],
   "source": [
    "import sys, os\n",
    "import pandas as pd\n",
    "import numpy as np\n",
    "import sklearn\n",
    "from rdkit import Chem, rdBase\n",
    "from rdkit.Chem import rdFMCS, Draw, PandasTools, AllChem, DataStructs, Descriptors\n",
    "from rdkit.Chem.Draw import IPythonConsole\n",
    "from IPython.display import SVG\n",
    "import matplotlib as mpl\n",
    "import matplotlib.pyplot as plt\n",
    "from matplotlib import rcParams\n",
    "from matplotlib.colors import hex2color\n",
    "import seaborn as sns\n",
    "import time\n",
    "\n",
    "print('RDKit version: ',rdBase.rdkitVersion)\n",
    "print('Pandas version:', pd.__version__)\n",
    "print('Numpy version:', np.__version__)\n",
    "print('MatplotLib version:', mpl.__version__)\n",
    "print('Sklearn version:', sklearn.__version__)\n",
    "print('Seaborn version:', sns.__version__)"
   ]
  },
  {
   "cell_type": "code",
   "execution_count": 2,
   "metadata": {},
   "outputs": [],
   "source": [
    "import imp\n",
    "import AutomatedSeriesClassification\n",
    "imp.reload(AutomatedSeriesClassification)\n",
    "from AutomatedSeriesClassification import utilsDataPrep, mainSeriesClassification, utilsDrawing"
   ]
  },
  {
   "cell_type": "markdown",
   "metadata": {},
   "source": [
    "Load ChEMBL database for substructure matching (constructed during data preprocessing)"
   ]
  },
  {
   "cell_type": "code",
   "execution_count": 3,
   "metadata": {},
   "outputs": [],
   "source": [
    "import pickle\n",
    "chembldb = pickle.load(open('./data/chembl27_ssslib.pkl','rb'))\n",
    "Nchembl = len(chembldb)"
   ]
  },
  {
   "cell_type": "markdown",
   "metadata": {},
   "source": [
    "Define Parameters, note that flimit corresponds to the specificity limit E(p) as described in the paper"
   ]
  },
  {
   "cell_type": "code",
   "execution_count": 4,
   "metadata": {},
   "outputs": [],
   "source": [
    "flimit=1e-3 #1e-3\n",
    "MinClusterSize=20 #20\n",
    "proj='CDK2Kinase'\n",
    "dbpath='./rdk_db'\n",
    "datapath='./{0}/'.format(proj)"
   ]
  },
  {
   "cell_type": "markdown",
   "metadata": {},
   "source": [
    "### UPGMA classification"
   ]
  },
  {
   "cell_type": "markdown",
   "metadata": {},
   "source": [
    "Set \"calcDists\" to True only if the pairwise molecular distance matrix for clustering is not calculated yet (this will take a while). Set \"calcScores\" only if you are interested in the intra-cluster distance metric, this slows down the clustering."
   ]
  },
  {
   "cell_type": "code",
   "execution_count": 5,
   "metadata": {},
   "outputs": [],
   "source": [
    "from rdkit import DataStructs"
   ]
  },
  {
   "cell_type": "code",
   "execution_count": 6,
   "metadata": {},
   "outputs": [
    {
     "name": "stdout",
     "output_type": "stream",
     "text": [
      "read 3187 molecules\n",
      "creating database\n"
     ]
    }
   ],
   "source": [
    "#utilsDataPrep.py\n",
    "#Lin32 read only 100 mols for test\n",
    "\n",
    "UPGMAClassification=mainSeriesClassification.Classification(proj, datapath, dbpath, chembldb, flimit, MinClusterSize, clustering='UPGMA', calcDists=True, calcScores=False)"
   ]
  },
  {
   "cell_type": "code",
   "execution_count": null,
   "metadata": {},
   "outputs": [],
   "source": [
    "from AutomatedSeriesClassification import UPGMAclustering\n",
    "#imp.reload(UPGMAclustering)\n",
    "#imp.reload(mainSeriesClassification)\n",
    "start=time.time()\n",
    "UPGMAClassification.ApplyClustering()\n",
    "end=time.time()\n",
    "print(\"Time elapsed during the calculation:\", end - start)   "
   ]
  },
  {
   "cell_type": "markdown",
   "metadata": {},
   "source": [
    "### Benchmark against human-defined classification (seriescolumn is the column with the human series assignment to each molecule in the dataframe moldata)"
   ]
  },
  {
   "cell_type": "code",
   "execution_count": null,
   "metadata": {},
   "outputs": [],
   "source": [
    "UPGMAClassification.CalculatePerformance(seriescolumn='series assignment')"
   ]
  },
  {
   "cell_type": "code",
   "execution_count": null,
   "metadata": {},
   "outputs": [],
   "source": [
    "moldata_proj=UPGMAClassification.moldata_proj\n",
    "ProjectClusters=UPGMAClassification.MCSdict\n",
    "PerformanceClusters=UPGMAClassification.PerformanceClusters"
   ]
  },
  {
   "cell_type": "code",
   "execution_count": null,
   "metadata": {
    "scrolled": false
   },
   "outputs": [],
   "source": [
    "UPGMAClassification.db_size?"
   ]
  },
  {
   "cell_type": "markdown",
   "metadata": {},
   "source": [
    "### Calculate performance metrics"
   ]
  },
  {
   "cell_type": "code",
   "execution_count": null,
   "metadata": {},
   "outputs": [],
   "source": [
    "Nmol=len(moldata_proj)\n",
    "Nrep=sum(moldata_proj['ClusterID'].map(lambda x: len(x)).tolist())\n",
    "Nunassigned=len(moldata_proj.loc[moldata_proj['ClusterID'].map(lambda x: len(x)==0)])\n",
    "frac_assigned=(Nmol-Nunassigned)/Nmol\n",
    "a=Nrep/(Nmol-Nunassigned)\n",
    "print('fraction of assigned molecules:',frac_assigned,', ambiguity score:',a)"
   ]
  },
  {
   "cell_type": "markdown",
   "metadata": {},
   "source": [
    "### Plot benchmarking between automatically identified and human defined series"
   ]
  },
  {
   "cell_type": "markdown",
   "metadata": {},
   "source": [
    "rearrange performance results"
   ]
  },
  {
   "cell_type": "code",
   "execution_count": null,
   "metadata": {},
   "outputs": [],
   "source": [
    "scaflist=list(set(moldata_proj['scaffold'].tolist()))\n",
    "scaflist.sort()\n",
    "N_auto_series=len(PerformanceClusters['recall'])\n",
    "LinkVector=PerformanceClusters['linked series']\n",
    "\n",
    "dict_recall={LinkVector[ind,0]:np.zeros(len(scaflist)) for ind in range(N_auto_series)}\n",
    "dict_prec={LinkVector[ind,0]:np.zeros(len(scaflist)) for ind in range(N_auto_series)}\n",
    "for ind in range(N_auto_series):\n",
    "    scafind=np.where(np.array(scaflist)==LinkVector[ind,1])\n",
    "    dict_recall[LinkVector[ind,0]][scafind]=PerformanceClusters['recall'][ind]\n",
    "    dict_prec[LinkVector[ind,0]][scafind]=PerformanceClusters['precision'][ind]\n",
    "    \n",
    "keylist=LinkVector[:,0].tolist()\n",
    "keylist.sort()\n",
    "dict_recall_sorted={k:dict_recall[k] for k in keylist}\n",
    "dict_prec_sorted={k:dict_prec[k] for k in keylist}"
   ]
  },
  {
   "cell_type": "code",
   "execution_count": null,
   "metadata": {},
   "outputs": [],
   "source": [
    "PerformanceClusters"
   ]
  },
  {
   "cell_type": "code",
   "execution_count": null,
   "metadata": {},
   "outputs": [],
   "source": [
    "legend=['Series '+s[-2:] for s in scaflist]\n",
    "rcParams.update({'figure.autolayout': True})\n",
    "fig,ax=plt.subplots(2,1,figsize=(10,10))\n",
    "fig,_=utilsDrawing.barplot_vertical(fig, ax[0],dict_recall_sorted,'recall linked h. series',[],['']*len(keylist),1.02)\n",
    "fig,_=utilsDrawing.barplot_vertical(fig, ax[1],dict_prec_sorted,'precision linked h. series',legend,keylist,1.02)\n",
    "ax[1].set_xlabel('ID automatically-identified series',fontsize=22)\n",
    "plt.show()"
   ]
  },
  {
   "cell_type": "code",
   "execution_count": null,
   "metadata": {},
   "outputs": [],
   "source": []
  },
  {
   "cell_type": "markdown",
   "metadata": {},
   "source": [
    "### Draw MCS of automatically-identified series and linked human-defined series"
   ]
  },
  {
   "cell_type": "code",
   "execution_count": 14,
   "metadata": {
    "scrolled": true
   },
   "outputs": [],
   "source": [
    "from ipywidgets import interact,fixed,IntSlider\n",
    "def renderMCS(seriesid,newscafslist,newscafsnames,linkedscafslist,linkedscafsnames):\n",
    "    listid=np.where(np.array(newscafsnames)==seriesid)[0][0]\n",
    "    svg_new=utilsDrawing.moltosvg(Chem.MolFromSmarts(newscafslist[listid]), molSize=(450,250))\n",
    "    svg_linked=utilsDrawing.moltosvg(Chem.MolFromSmarts(linkedscafslist[listid]), molSize=(450,250))\n",
    "    labels=[newscafsnames[listid],linkedscafsnames[listid]]\n",
    "    svgGrid = utilsDrawing.SvgsToGrid([svg_new,svg_linked], labels=labels, svgsPerRow=2, molSize=(450,250))\n",
    "    \n",
    "    return(display(SVG(svgGrid)))"
   ]
  },
  {
   "cell_type": "code",
   "execution_count": 18,
   "metadata": {},
   "outputs": [
    {
     "data": {
      "text/plain": [
       "'./CDK2Kinase/'"
      ]
     },
     "execution_count": 18,
     "metadata": {},
     "output_type": "execute_result"
    }
   ],
   "source": [
    "datapath"
   ]
  },
  {
   "cell_type": "code",
   "execution_count": 17,
   "metadata": {},
   "outputs": [
    {
     "data": {
      "application/vnd.jupyter.widget-view+json": {
       "model_id": "a39d7ba168dc45d68100522e9a5e1666",
       "version_major": 2,
       "version_minor": 0
      },
      "text/plain": [
       "interactive(children=(Dropdown(description='seriesid', options=('6313',), value='6313'), Output()), _dom_class…"
      ]
     },
     "metadata": {},
     "output_type": "display_data"
    }
   ],
   "source": [
    "seriesdata_proj=pd.read_csv('{0}seriesdata.csv'.format(datapath))\n",
    "LinkVector_sorted=np.array([[x,y] for x,y in sorted(zip(LinkVector[:,0],LinkVector[:,1]))])\n",
    "linkedScafsList=[seriesdata_proj['MCSsampled'].loc[seriesdata_proj['ScafName']==x].iloc[0] for x in LinkVector_sorted[:,1]]\n",
    "linkedScafsNames=[x for x in LinkVector_sorted[:,1]]\n",
    "MCSlist=[ProjectClusters[int(k)][2] for k in keylist]\n",
    "\n",
    "interact(renderMCS, seriesid=keylist, newscafslist=fixed(MCSlist),newscafsnames=fixed(keylist),linkedscafslist=fixed(linkedScafsList),linkedscafsnames=fixed(linkedScafsNames));\n"
   ]
  },
  {
   "cell_type": "markdown",
   "metadata": {},
   "source": [
    "### 10fold cross-validation by sampling 40% of all compounds"
   ]
  },
  {
   "cell_type": "code",
   "execution_count": 16,
   "metadata": {},
   "outputs": [
    {
     "name": "stderr",
     "output_type": "stream",
     "text": [
      "/home/iwatobipen/miniconda3/envs/chemoinfo/lib/python3.7/site-packages/ipykernel_launcher.py:3: DeprecationWarning: time.clock has been deprecated in Python 3.3 and will be removed from Python 3.8: use time.perf_counter or time.process_time instead\n",
      "  This is separate from the ipykernel package so we can avoid doing imports until\n"
     ]
    },
    {
     "ename": "KeyboardInterrupt",
     "evalue": "",
     "output_type": "error",
     "traceback": [
      "\u001b[0;31m---------------------------------------------------------------------------\u001b[0m",
      "\u001b[0;31mKeyboardInterrupt\u001b[0m                         Traceback (most recent call last)",
      "\u001b[0;32m<ipython-input-16-e4488c286325>\u001b[0m in \u001b[0;36m<module>\u001b[0;34m\u001b[0m\n\u001b[1;32m      2\u001b[0m \u001b[0mN_sample\u001b[0m\u001b[0;34m=\u001b[0m\u001b[0;36m10\u001b[0m\u001b[0;34m\u001b[0m\u001b[0;34m\u001b[0m\u001b[0m\n\u001b[1;32m      3\u001b[0m \u001b[0mstart\u001b[0m\u001b[0;34m=\u001b[0m\u001b[0mtime\u001b[0m\u001b[0;34m.\u001b[0m\u001b[0mclock\u001b[0m\u001b[0;34m(\u001b[0m\u001b[0;34m)\u001b[0m\u001b[0;34m\u001b[0m\u001b[0;34m\u001b[0m\u001b[0m\n\u001b[0;32m----> 4\u001b[0;31m \u001b[0mUPGMAClassification\u001b[0m\u001b[0;34m.\u001b[0m\u001b[0mClassificationCrossValidation\u001b[0m\u001b[0;34m(\u001b[0m\u001b[0mfraction_sample\u001b[0m\u001b[0;34m,\u001b[0m \u001b[0mN_sample\u001b[0m\u001b[0;34m)\u001b[0m\u001b[0;34m\u001b[0m\u001b[0;34m\u001b[0m\u001b[0m\n\u001b[0m\u001b[1;32m      5\u001b[0m \u001b[0mend\u001b[0m\u001b[0;34m=\u001b[0m\u001b[0mtime\u001b[0m\u001b[0;34m.\u001b[0m\u001b[0mclock\u001b[0m\u001b[0;34m(\u001b[0m\u001b[0;34m)\u001b[0m\u001b[0;34m\u001b[0m\u001b[0;34m\u001b[0m\u001b[0m\n\u001b[1;32m      6\u001b[0m \u001b[0mprint\u001b[0m\u001b[0;34m(\u001b[0m\u001b[0;34m\"Time elapsed during the calculation:\"\u001b[0m\u001b[0;34m,\u001b[0m \u001b[0mend\u001b[0m \u001b[0;34m-\u001b[0m \u001b[0mstart\u001b[0m\u001b[0;34m)\u001b[0m\u001b[0;34m\u001b[0m\u001b[0;34m\u001b[0m\u001b[0m\n",
      "\u001b[0;32m~/dev/AutomatedSeriesClassification/AutomatedSeriesClassification/mainSeriesClassification.py\u001b[0m in \u001b[0;36mClassificationCrossValidation\u001b[0;34m(self, fraction_sample, N_sample)\u001b[0m\n\u001b[1;32m    204\u001b[0m             \u001b[0;31m# apply custering and calculate MCS\u001b[0m\u001b[0;34m\u001b[0m\u001b[0;34m\u001b[0m\u001b[0;34m\u001b[0m\u001b[0m\n\u001b[1;32m    205\u001b[0m             \u001b[0;32mif\u001b[0m \u001b[0mself\u001b[0m\u001b[0;34m.\u001b[0m\u001b[0mclustering\u001b[0m \u001b[0;34m==\u001b[0m \u001b[0;34m'UPGMA'\u001b[0m\u001b[0;34m:\u001b[0m\u001b[0;34m\u001b[0m\u001b[0;34m\u001b[0m\u001b[0m\n\u001b[0;32m--> 206\u001b[0;31m                 \u001b[0mMCSdict_sampled\u001b[0m\u001b[0;34m=\u001b[0m\u001b[0mUPGMAclustering\u001b[0m\u001b[0;34m.\u001b[0m\u001b[0mApplyUPGMA\u001b[0m\u001b[0;34m(\u001b[0m\u001b[0mdistdata_sample\u001b[0m\u001b[0;34m,\u001b[0m\u001b[0mmoldata_sample\u001b[0m\u001b[0;34m,\u001b[0m\u001b[0mself\u001b[0m\u001b[0;34m.\u001b[0m\u001b[0mchembldb\u001b[0m\u001b[0;34m,\u001b[0m \u001b[0mself\u001b[0m\u001b[0;34m.\u001b[0m\u001b[0mflimit\u001b[0m\u001b[0;34m,\u001b[0m \u001b[0mself\u001b[0m\u001b[0;34m.\u001b[0m\u001b[0mMinClusterSize\u001b[0m\u001b[0;34m,\u001b[0m \u001b[0mself\u001b[0m\u001b[0;34m.\u001b[0m\u001b[0mcalcScores\u001b[0m\u001b[0;34m)\u001b[0m\u001b[0;34m\u001b[0m\u001b[0;34m\u001b[0m\u001b[0m\n\u001b[0m\u001b[1;32m    207\u001b[0m             \u001b[0;32melif\u001b[0m \u001b[0mself\u001b[0m\u001b[0;34m.\u001b[0m\u001b[0mclustering\u001b[0m \u001b[0;34m==\u001b[0m \u001b[0;34m'Butina'\u001b[0m\u001b[0;34m:\u001b[0m\u001b[0;34m\u001b[0m\u001b[0;34m\u001b[0m\u001b[0m\n\u001b[1;32m    208\u001b[0m                 \u001b[0mMCSdict_sampled\u001b[0m\u001b[0;34m=\u001b[0m\u001b[0mButinaclustering\u001b[0m\u001b[0;34m.\u001b[0m\u001b[0mApplyButina\u001b[0m\u001b[0;34m(\u001b[0m\u001b[0mdistdata_sample\u001b[0m\u001b[0;34m,\u001b[0m\u001b[0mmoldata_sample\u001b[0m\u001b[0;34m,\u001b[0m \u001b[0mself\u001b[0m\u001b[0;34m.\u001b[0m\u001b[0mchembldb\u001b[0m\u001b[0;34m,\u001b[0m \u001b[0mself\u001b[0m\u001b[0;34m.\u001b[0m\u001b[0mflimit\u001b[0m\u001b[0;34m,\u001b[0m \u001b[0mself\u001b[0m\u001b[0;34m.\u001b[0m\u001b[0mMinClusterSize\u001b[0m\u001b[0;34m,\u001b[0m\u001b[0mself\u001b[0m\u001b[0;34m.\u001b[0m\u001b[0mcalcScores\u001b[0m\u001b[0;34m)\u001b[0m\u001b[0;34m\u001b[0m\u001b[0;34m\u001b[0m\u001b[0m\n",
      "\u001b[0;32m~/dev/AutomatedSeriesClassification/AutomatedSeriesClassification/UPGMAclustering.py\u001b[0m in \u001b[0;36mApplyUPGMA\u001b[0;34m(distdata_proj, moldata_proj, chembldb, flimit, MinClusterSize, calcScores)\u001b[0m\n\u001b[1;32m     97\u001b[0m \u001b[0;34m\u001b[0m\u001b[0m\n\u001b[1;32m     98\u001b[0m     \u001b[0;31m# filter out irrelevant clusters and calculate MCS on selected clusters\u001b[0m\u001b[0;34m\u001b[0m\u001b[0;34m\u001b[0m\u001b[0;34m\u001b[0m\u001b[0m\n\u001b[0;32m---> 99\u001b[0;31m     \u001b[0mMCSdict\u001b[0m\u001b[0;34m=\u001b[0m\u001b[0mDetermineRelevantMCS\u001b[0m\u001b[0;34m(\u001b[0m\u001b[0mlen\u001b[0m\u001b[0;34m(\u001b[0m\u001b[0mdistdata_proj\u001b[0m\u001b[0;34m)\u001b[0m\u001b[0;34m,\u001b[0m\u001b[0mcluster\u001b[0m\u001b[0;34m.\u001b[0m\u001b[0mchildren_\u001b[0m\u001b[0;34m,\u001b[0m\u001b[0mMolDict\u001b[0m\u001b[0;34m,\u001b[0m\u001b[0mScoreDict\u001b[0m\u001b[0;34m,\u001b[0m\u001b[0mchembldb\u001b[0m\u001b[0;34m,\u001b[0m\u001b[0mmoldata_proj\u001b[0m\u001b[0;34m,\u001b[0m\u001b[0mflimit\u001b[0m\u001b[0;34m,\u001b[0m\u001b[0mMinClusterSize\u001b[0m\u001b[0;34m,\u001b[0m \u001b[0mcalcScores\u001b[0m\u001b[0;34m)\u001b[0m\u001b[0;34m\u001b[0m\u001b[0;34m\u001b[0m\u001b[0m\n\u001b[0m\u001b[1;32m    100\u001b[0m \u001b[0;34m\u001b[0m\u001b[0m\n\u001b[1;32m    101\u001b[0m     \u001b[0;32mreturn\u001b[0m \u001b[0mMCSdict\u001b[0m\u001b[0;34m\u001b[0m\u001b[0;34m\u001b[0m\u001b[0m\n",
      "\u001b[0;32m~/dev/AutomatedSeriesClassification/AutomatedSeriesClassification/UPGMAclustering.py\u001b[0m in \u001b[0;36mDetermineRelevantMCS\u001b[0;34m(Ndata, children, MolDict, ScoreDict, chembldb, moldata, flimit, MinClusterSize, calcScores)\u001b[0m\n\u001b[1;32m     72\u001b[0m             \u001b[0;32mif\u001b[0m \u001b[0mc\u001b[0m\u001b[0;34m>=\u001b[0m\u001b[0mNdata\u001b[0m\u001b[0;34m:\u001b[0m\u001b[0;34m\u001b[0m\u001b[0;34m\u001b[0m\u001b[0m\n\u001b[1;32m     73\u001b[0m                 \u001b[0;32mif\u001b[0m \u001b[0mlen\u001b[0m\u001b[0;34m(\u001b[0m\u001b[0mMolDict\u001b[0m\u001b[0;34m[\u001b[0m\u001b[0mc\u001b[0m\u001b[0;34m]\u001b[0m\u001b[0;34m)\u001b[0m\u001b[0;34m>=\u001b[0m\u001b[0mMinClusterSize\u001b[0m\u001b[0;34m:\u001b[0m\u001b[0;34m\u001b[0m\u001b[0;34m\u001b[0m\u001b[0m\n\u001b[0;32m---> 74\u001b[0;31m                     \u001b[0mfChembl\u001b[0m\u001b[0;34m,\u001b[0m\u001b[0mSmarts\u001b[0m\u001b[0;34m=\u001b[0m\u001b[0mutilsStructureEval\u001b[0m\u001b[0;34m.\u001b[0m\u001b[0mMCSFromMollist\u001b[0m\u001b[0;34m(\u001b[0m\u001b[0mmoldata\u001b[0m\u001b[0;34m.\u001b[0m\u001b[0mMolecule\u001b[0m\u001b[0;34m.\u001b[0m\u001b[0miloc\u001b[0m\u001b[0;34m[\u001b[0m\u001b[0mMolDict\u001b[0m\u001b[0;34m[\u001b[0m\u001b[0mc\u001b[0m\u001b[0;34m]\u001b[0m\u001b[0;34m]\u001b[0m\u001b[0;34m.\u001b[0m\u001b[0mtolist\u001b[0m\u001b[0;34m(\u001b[0m\u001b[0;34m)\u001b[0m\u001b[0;34m,\u001b[0m\u001b[0mchembldb\u001b[0m\u001b[0;34m,\u001b[0m\u001b[0mNchembl\u001b[0m\u001b[0;34m)\u001b[0m\u001b[0;34m\u001b[0m\u001b[0;34m\u001b[0m\u001b[0m\n\u001b[0m\u001b[1;32m     75\u001b[0m                     \u001b[0;32mif\u001b[0m \u001b[0mfChembl\u001b[0m\u001b[0;34m>=\u001b[0m\u001b[0mflimit\u001b[0m\u001b[0;34m:\u001b[0m\u001b[0;34m\u001b[0m\u001b[0;34m\u001b[0m\u001b[0m\n\u001b[1;32m     76\u001b[0m                         \u001b[0mchildlayer\u001b[0m\u001b[0;34m+=\u001b[0m\u001b[0mchildren\u001b[0m\u001b[0;34m[\u001b[0m\u001b[0mc\u001b[0m\u001b[0;34m-\u001b[0m\u001b[0mNdata\u001b[0m\u001b[0;34m]\u001b[0m\u001b[0;34m.\u001b[0m\u001b[0mtolist\u001b[0m\u001b[0;34m(\u001b[0m\u001b[0;34m)\u001b[0m\u001b[0;34m\u001b[0m\u001b[0;34m\u001b[0m\u001b[0m\n",
      "\u001b[0;32m~/dev/AutomatedSeriesClassification/AutomatedSeriesClassification/utilsStructureEval.py\u001b[0m in \u001b[0;36mMCSFromMollist\u001b[0;34m(mollist, chembldb, Nchembl)\u001b[0m\n\u001b[1;32m     22\u001b[0m     \u001b[0;32melse\u001b[0m\u001b[0;34m:\u001b[0m \u001b[0mfChembl2\u001b[0m\u001b[0;34m=\u001b[0m\u001b[0mgetFChembl\u001b[0m\u001b[0;34m(\u001b[0m\u001b[0mMCSSmarts2\u001b[0m\u001b[0;34m,\u001b[0m\u001b[0mchembldb\u001b[0m\u001b[0;34m,\u001b[0m\u001b[0mNchembl\u001b[0m\u001b[0;34m)\u001b[0m\u001b[0;34m\u001b[0m\u001b[0;34m\u001b[0m\u001b[0m\n\u001b[1;32m     23\u001b[0m     \u001b[0;32mif\u001b[0m \u001b[0mMCSSmarts\u001b[0m\u001b[0;34m==\u001b[0m\u001b[0;34m''\u001b[0m\u001b[0;34m:\u001b[0m \u001b[0mfChembl\u001b[0m\u001b[0;34m=\u001b[0m\u001b[0;36m1\u001b[0m\u001b[0;34m\u001b[0m\u001b[0;34m\u001b[0m\u001b[0m\n\u001b[0;32m---> 24\u001b[0;31m     \u001b[0;32melse\u001b[0m\u001b[0;34m:\u001b[0m\u001b[0mfChembl\u001b[0m\u001b[0;34m=\u001b[0m\u001b[0mgetFChembl\u001b[0m\u001b[0;34m(\u001b[0m\u001b[0mMCSSmarts\u001b[0m\u001b[0;34m,\u001b[0m\u001b[0mchembldb\u001b[0m\u001b[0;34m,\u001b[0m\u001b[0mNchembl\u001b[0m\u001b[0;34m)\u001b[0m\u001b[0;34m\u001b[0m\u001b[0;34m\u001b[0m\u001b[0m\n\u001b[0m\u001b[1;32m     25\u001b[0m     \u001b[0;32mif\u001b[0m \u001b[0mfChembl2\u001b[0m\u001b[0;34m<\u001b[0m\u001b[0mfChembl\u001b[0m\u001b[0;34m:\u001b[0m\u001b[0;34m\u001b[0m\u001b[0;34m\u001b[0m\u001b[0m\n\u001b[1;32m     26\u001b[0m         \u001b[0mfChembl\u001b[0m\u001b[0;34m=\u001b[0m\u001b[0mfChembl2\u001b[0m\u001b[0;34m\u001b[0m\u001b[0;34m\u001b[0m\u001b[0m\n",
      "\u001b[0;32m~/dev/AutomatedSeriesClassification/AutomatedSeriesClassification/utilsStructureEval.py\u001b[0m in \u001b[0;36mgetFChembl\u001b[0;34m(qry, chembldb, Ntot, qryformat)\u001b[0m\n\u001b[1;32m     61\u001b[0m         \u001b[0;32mreturn\u001b[0m \u001b[0m_arthor_getFChembl\u001b[0m\u001b[0;34m(\u001b[0m\u001b[0mqry\u001b[0m\u001b[0;34m,\u001b[0m\u001b[0mchembldb\u001b[0m\u001b[0;34m,\u001b[0m\u001b[0mNtot\u001b[0m\u001b[0;34m,\u001b[0m\u001b[0mqryformat\u001b[0m\u001b[0;34m=\u001b[0m\u001b[0mqryformat\u001b[0m\u001b[0;34m)\u001b[0m\u001b[0;34m\u001b[0m\u001b[0;34m\u001b[0m\u001b[0m\n\u001b[1;32m     62\u001b[0m     \u001b[0;32melse\u001b[0m\u001b[0;34m:\u001b[0m\u001b[0;34m\u001b[0m\u001b[0;34m\u001b[0m\u001b[0m\n\u001b[0;32m---> 63\u001b[0;31m         \u001b[0;32mreturn\u001b[0m \u001b[0m_rdkit_getFChembl\u001b[0m\u001b[0;34m(\u001b[0m\u001b[0mqry\u001b[0m\u001b[0;34m,\u001b[0m\u001b[0mchembldb\u001b[0m\u001b[0;34m,\u001b[0m\u001b[0mNtot\u001b[0m\u001b[0;34m,\u001b[0m\u001b[0mqryformat\u001b[0m\u001b[0;34m=\u001b[0m\u001b[0mqryformat\u001b[0m\u001b[0;34m)\u001b[0m\u001b[0;34m\u001b[0m\u001b[0;34m\u001b[0m\u001b[0m\n\u001b[0m",
      "\u001b[0;32m~/dev/AutomatedSeriesClassification/AutomatedSeriesClassification/utilsStructureEval.py\u001b[0m in \u001b[0;36m_rdkit_getFChembl\u001b[0;34m(qry, chembldb, Ntot, qryformat)\u001b[0m\n\u001b[1;32m     51\u001b[0m     \u001b[0;32melif\u001b[0m \u001b[0mqryformat\u001b[0m\u001b[0;34m==\u001b[0m\u001b[0;34m'MDL'\u001b[0m\u001b[0;34m:\u001b[0m\u001b[0;34m\u001b[0m\u001b[0;34m\u001b[0m\u001b[0m\n\u001b[1;32m     52\u001b[0m         \u001b[0mqry\u001b[0m \u001b[0;34m=\u001b[0m \u001b[0mChem\u001b[0m\u001b[0;34m.\u001b[0m\u001b[0mMolFromMolFile\u001b[0m\u001b[0;34m(\u001b[0m\u001b[0mqry\u001b[0m\u001b[0;34m)\u001b[0m\u001b[0;34m\u001b[0m\u001b[0;34m\u001b[0m\u001b[0m\n\u001b[0;32m---> 53\u001b[0;31m     \u001b[0mresults\u001b[0m\u001b[0;34m=\u001b[0m\u001b[0mchembldb\u001b[0m\u001b[0;34m.\u001b[0m\u001b[0mGetMatches\u001b[0m\u001b[0;34m(\u001b[0m\u001b[0mqry\u001b[0m\u001b[0;34m,\u001b[0m\u001b[0mmaxResults\u001b[0m\u001b[0;34m=\u001b[0m\u001b[0mNtot\u001b[0m\u001b[0;34m)\u001b[0m\u001b[0;34m\u001b[0m\u001b[0;34m\u001b[0m\u001b[0m\n\u001b[0m\u001b[1;32m     54\u001b[0m \u001b[0;34m\u001b[0m\u001b[0m\n\u001b[1;32m     55\u001b[0m     \u001b[0mfChembl\u001b[0m\u001b[0;34m=\u001b[0m\u001b[0;34m(\u001b[0m\u001b[0mlen\u001b[0m\u001b[0;34m(\u001b[0m\u001b[0mresults\u001b[0m\u001b[0;34m)\u001b[0m\u001b[0;34m+\u001b[0m\u001b[0;36m1\u001b[0m\u001b[0;34m)\u001b[0m\u001b[0;34m/\u001b[0m\u001b[0;34m(\u001b[0m\u001b[0mNtot\u001b[0m\u001b[0;34m+\u001b[0m\u001b[0;36m2\u001b[0m\u001b[0;34m)\u001b[0m\u001b[0;34m\u001b[0m\u001b[0;34m\u001b[0m\u001b[0m\n",
      "\u001b[0;31mKeyboardInterrupt\u001b[0m: "
     ]
    }
   ],
   "source": [
    "fraction_sample=0.4\n",
    "N_sample=10\n",
    "start=time.clock()\n",
    "UPGMAClassification.ClassificationCrossValidation(fraction_sample, N_sample)\n",
    "end=time.clock()\n",
    "print(\"Time elapsed during the calculation:\", end - start)   "
   ]
  },
  {
   "cell_type": "code",
   "execution_count": null,
   "metadata": {},
   "outputs": [],
   "source": [
    "UPGMAClassification.EvaluationCrossValidation()"
   ]
  },
  {
   "cell_type": "code",
   "execution_count": null,
   "metadata": {},
   "outputs": [],
   "source": [
    "rcParams.update({'figure.autolayout': True})\n",
    "fig,ax=plt.subplots(1,1,figsize=(12,8))\n",
    "ax = sns.boxplot(x=\"series id\", y=\"fscore\", data=UPGMAClassification.EvalCrossval, color=[0.5,0.6,1.0],ax=ax)\n",
    "ax.set_ylabel('F$_1$ score',fontsize=26)\n",
    "ax.set_xlabel('series ID',fontsize=26)\n",
    "\n",
    "plt.setp(ax.get_xticklabels(), fontsize=22, rotation='vertical')\n",
    "plt.setp(ax.get_yticklabels(), fontsize=22)\n",
    "plt.show()"
   ]
  },
  {
   "cell_type": "code",
   "execution_count": null,
   "metadata": {},
   "outputs": [],
   "source": []
  }
 ],
 "metadata": {
  "kernelspec": {
   "display_name": "Python 3",
   "language": "python",
   "name": "python3"
  },
  "language_info": {
   "codemirror_mode": {
    "name": "ipython",
    "version": 3
   },
   "file_extension": ".py",
   "mimetype": "text/x-python",
   "name": "python",
   "nbconvert_exporter": "python",
   "pygments_lexer": "ipython3",
   "version": "3.7.7"
  }
 },
 "nbformat": 4,
 "nbformat_minor": 2
}
